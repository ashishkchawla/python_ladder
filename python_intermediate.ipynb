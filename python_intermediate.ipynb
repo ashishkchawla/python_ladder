{
 "cells": [
  {
   "cell_type": "markdown",
   "id": "b92df67d",
   "metadata": {},
   "source": [
    "# 1. Advanced Functions"
   ]
  },
  {
   "cell_type": "markdown",
   "id": "33039cc6",
   "metadata": {},
   "source": [
    "Python functions can be more sophisticated with default arguments, keyword arguments, and more."
   ]
  },
  {
   "cell_type": "markdown",
   "id": "ddb4c4ca",
   "metadata": {},
   "source": [
    "## Example"
   ]
  },
  {
   "cell_type": "code",
   "execution_count": 1,
   "id": "3a6b94f3",
   "metadata": {},
   "outputs": [
    {
     "name": "stdout",
     "output_type": "stream",
     "text": [
      "\n",
      "Examples:\n",
      "Hello, Alice!\n",
      "Hi, Bob?\n",
      "Good morning, Charlie!\n",
      "Positional arguments: (1, 2, 3)\n",
      "Keyword arguments: {'name': 'Alice', 'age': 25}\n"
     ]
    }
   ],
   "source": [
    "print(\"\\nExamples:\")\n",
    "def greet(name, greeting=\"Hello\", punctuation=\"!\"):\n",
    "    return f\"{greeting}, {name}{punctuation}\"\n",
    "\n",
    "print(greet(\"Alice\"))  # Uses defaults\n",
    "print(greet(\"Bob\", \"Hi\", \"?\"))  # Overrides defaults\n",
    "print(greet(greeting=\"Good morning\", name=\"Charlie\"))  # Keyword arguments\n",
    "\n",
    "def flexible_function(*args, **kwargs):\n",
    "    print(f\"Positional arguments: {args}\")\n",
    "    print(f\"Keyword arguments: {kwargs}\")\n",
    "\n",
    "flexible_function(1, 2, 3, name=\"Alice\", age=25)"
   ]
  },
  {
   "cell_type": "markdown",
   "id": "aa0fdbe7",
   "metadata": {},
   "source": [
    "## Practice"
   ]
  },
  {
   "cell_type": "code",
   "execution_count": 2,
   "id": "fafd579a",
   "metadata": {},
   "outputs": [
    {
     "name": "stdout",
     "output_type": "stream",
     "text": [
      "\n",
      "Practice Question 1:\n",
      "Create a function that:\n",
      "1. Takes any number of numbers as positional arguments\n",
      "2. Takes optional 'operation' and 'round_to' as keyword arguments\n",
      "3. Performs the specified operation (sum, product, average) on the numbers\n",
      "4. Rounds the result to the specified number of decimal places\n"
     ]
    }
   ],
   "source": [
    "print(\"\\nPractice Question 1:\")\n",
    "print(\"Create a function that:\")\n",
    "print(\"1. Takes any number of numbers as positional arguments\")\n",
    "print(\"2. Takes optional 'operation' and 'round_to' as keyword arguments\")\n",
    "print(\"3. Performs the specified operation (sum, product, average) on the numbers\")\n",
    "print(\"4. Rounds the result to the specified number of decimal places\")"
   ]
  },
  {
   "cell_type": "markdown",
   "id": "cf625b80",
   "metadata": {},
   "source": [
    "# 2. *args and **kwargs"
   ]
  },
  {
   "cell_type": "markdown",
   "id": "75c4c21c",
   "metadata": {},
   "source": [
    "*args collects positional arguments into a tuple, **kwargs collects keyword arguments into a dictionary."
   ]
  },
  {
   "cell_type": "markdown",
   "id": "52d8dea6",
   "metadata": {},
   "source": [
    "## Example"
   ]
  },
  {
   "cell_type": "code",
   "execution_count": 3,
   "id": "62d849cb",
   "metadata": {},
   "outputs": [
    {
     "name": "stdout",
     "output_type": "stream",
     "text": [
      "\n",
      "Examples:\n",
      "Sum of 1, 2, 3, 4: 10\n",
      "name: Alice\n",
      "age: 25\n",
      "city: New York\n"
     ]
    }
   ],
   "source": [
    "print(\"\\nExamples:\")\n",
    "def sum_all(*args):\n",
    "    return sum(args)\n",
    "\n",
    "def print_info(**kwargs):\n",
    "    for key, value in kwargs.items():\n",
    "        print(f\"{key}: {value}\")\n",
    "\n",
    "print(\"Sum of 1, 2, 3, 4:\", sum_all(1, 2, 3, 4))\n",
    "print_info(name=\"Alice\", age=25, city=\"New York\")\n",
    "\n",
    "def wrapper_function(*args, **kwargs):\n",
    "    print(\"Calling function with:\")\n",
    "    print(f\"args: {args}\")\n",
    "    print(f\"kwargs: {kwargs}\")\n",
    "    # This could call another function with the same arguments"
   ]
  },
  {
   "cell_type": "markdown",
   "id": "4d84d3dc",
   "metadata": {},
   "source": [
    "## Practice"
   ]
  },
  {
   "cell_type": "code",
   "execution_count": 4,
   "id": "9028c45e",
   "metadata": {},
   "outputs": [
    {
     "name": "stdout",
     "output_type": "stream",
     "text": [
      "\n",
      "Practice Question 2:\n",
      "Create a function that:\n",
      "1. Takes any number of dictionaries as *args\n",
      "2. Merges all dictionaries into a single dictionary\n",
      "3. If there are conflicting keys, keeps the value from the last dictionary\n",
      "4. Returns the merged dictionary\n"
     ]
    }
   ],
   "source": [
    "print(\"\\nPractice Question 2:\")\n",
    "print(\"Create a function that:\")\n",
    "print(\"1. Takes any number of dictionaries as *args\")\n",
    "print(\"2. Merges all dictionaries into a single dictionary\")\n",
    "print(\"3. If there are conflicting keys, keeps the value from the last dictionary\")\n",
    "print(\"4. Returns the merged dictionary\")"
   ]
  },
  {
   "cell_type": "markdown",
   "id": "71a1ff35",
   "metadata": {},
   "source": [
    "# 3. Higher-Order Functions"
   ]
  },
  {
   "cell_type": "markdown",
   "id": "00daae0a",
   "metadata": {},
   "source": [
    "Functions that take other functions as arguments or return functions."
   ]
  },
  {
   "cell_type": "markdown",
   "id": "afce7a4b",
   "metadata": {},
   "source": [
    "## Example"
   ]
  },
  {
   "cell_type": "code",
   "execution_count": 5,
   "id": "7b47e5a2",
   "metadata": {},
   "outputs": [
    {
     "name": "stdout",
     "output_type": "stream",
     "text": [
      "\n",
      "Examples:\n",
      "Square of 5: 25\n",
      "Cube of 3: 27\n",
      "Double of 5: 10\n",
      "Triple of 4: 12\n"
     ]
    }
   ],
   "source": [
    "print(\"\\nExamples:\")\n",
    "def apply_operation(func, *args):\n",
    "    return func(*args)\n",
    "\n",
    "def square(x):\n",
    "    return x ** 2\n",
    "\n",
    "def cube(x):\n",
    "    return x ** 3\n",
    "\n",
    "print(\"Square of 5:\", apply_operation(square, 5))\n",
    "print(\"Cube of 3:\", apply_operation(cube, 3))\n",
    "\n",
    "def create_multiplier(factor):\n",
    "    def multiplier(x):\n",
    "        return x * factor\n",
    "    return multiplier\n",
    "\n",
    "double = create_multiplier(2)\n",
    "triple = create_multiplier(3)\n",
    "\n",
    "print(\"Double of 5:\", double(5))\n",
    "print(\"Triple of 4:\", triple(4))"
   ]
  },
  {
   "cell_type": "markdown",
   "id": "5348036a",
   "metadata": {},
   "source": [
    "## Practice"
   ]
  },
  {
   "cell_type": "code",
   "execution_count": 6,
   "id": "82a64ace",
   "metadata": {},
   "outputs": [
    {
     "name": "stdout",
     "output_type": "stream",
     "text": [
      "\n",
      "Practice Question 3:\n",
      "Create a higher-order function that:\n",
      "1. Takes a function and a list as arguments\n",
      "2. Applies the function to each element in the list\n",
      "3. Returns a new list with the results\n",
      "4. Also create a function that filters elements based on a condition\n"
     ]
    }
   ],
   "source": [
    "print(\"\\nPractice Question 3:\")\n",
    "print(\"Create a higher-order function that:\")\n",
    "print(\"1. Takes a function and a list as arguments\")\n",
    "print(\"2. Applies the function to each element in the list\")\n",
    "print(\"3. Returns a new list with the results\")\n",
    "print(\"4. Also create a function that filters elements based on a condition\")"
   ]
  },
  {
   "cell_type": "markdown",
   "id": "8d786f92",
   "metadata": {},
   "source": [
    "# 4. Iterators"
   ]
  },
  {
   "cell_type": "markdown",
   "id": "399b7363",
   "metadata": {},
   "source": [
    "Iterators are objects that can be iterated upon, implementing __iter__ and __next__ methods."
   ]
  },
  {
   "cell_type": "markdown",
   "id": "babb8b08",
   "metadata": {},
   "source": [
    "## Example"
   ]
  },
  {
   "cell_type": "code",
   "execution_count": 7,
   "id": "152c1498",
   "metadata": {},
   "outputs": [
    {
     "name": "stdout",
     "output_type": "stream",
     "text": [
      "\n",
      "Examples:\n",
      "Countdown from 5:\n",
      "5 4 3 2 1 \n",
      "First element: 1\n",
      "Second element: 2\n"
     ]
    }
   ],
   "source": [
    "print(\"\\nExamples:\")\n",
    "class CountDown:\n",
    "    def __init__(self, start):\n",
    "        self.start = start\n",
    "    \n",
    "    def __iter__(self):\n",
    "        return self\n",
    "    \n",
    "    def __next__(self):\n",
    "        if self.start <= 0:\n",
    "            raise StopIteration\n",
    "        self.start -= 1\n",
    "        return self.start + 1\n",
    "\n",
    "print(\"Countdown from 5:\")\n",
    "for num in CountDown(5):\n",
    "    print(num, end=\" \")\n",
    "print()\n",
    "\n",
    "\n",
    "numbers = [1, 2, 3, 4, 5]\n",
    "iterator = iter(numbers)\n",
    "print(\"First element:\", next(iterator))\n",
    "print(\"Second element:\", next(iterator))"
   ]
  },
  {
   "cell_type": "markdown",
   "id": "6818c989",
   "metadata": {},
   "source": [
    "## Practice"
   ]
  },
  {
   "cell_type": "code",
   "execution_count": 8,
   "id": "d2577662",
   "metadata": {},
   "outputs": [
    {
     "name": "stdout",
     "output_type": "stream",
     "text": [
      "\n",
      "Practice Question 4:\n",
      "Create an iterator class that:\n",
      "1. Generates Fibonacci numbers up to a given limit\n",
      "2. Implements both __iter__ and __next__ methods\n",
      "3. Raises StopIteration when the limit is reached\n",
      "4. Use it in a for loop to print Fibonacci numbers\n"
     ]
    }
   ],
   "source": [
    "print(\"\\nPractice Question 4:\")\n",
    "print(\"Create an iterator class that:\")\n",
    "print(\"1. Generates Fibonacci numbers up to a given limit\")\n",
    "print(\"2. Implements both __iter__ and __next__ methods\")\n",
    "print(\"3. Raises StopIteration when the limit is reached\")\n",
    "print(\"4. Use it in a for loop to print Fibonacci numbers\")"
   ]
  },
  {
   "cell_type": "markdown",
   "id": "7f5396c6",
   "metadata": {},
   "source": [
    "# 5. Generators"
   ]
  },
  {
   "cell_type": "markdown",
   "id": "420f9f6c",
   "metadata": {},
   "source": [
    "Generators are functions that use 'yield' to return values one at a time."
   ]
  },
  {
   "cell_type": "markdown",
   "id": "8f769d9e",
   "metadata": {},
   "source": [
    "## Example"
   ]
  },
  {
   "cell_type": "code",
   "execution_count": 9,
   "id": "262832e5",
   "metadata": {},
   "outputs": [
    {
     "name": "stdout",
     "output_type": "stream",
     "text": [
      "\n",
      "Examples:\n",
      "First 8 Fibonacci numbers:\n",
      "0 1 1 2 3 5 8 13 \n",
      "First 5 numbers from infinite counter:\n",
      "0 1 2 3 4 \n",
      "Squares from generator expression: [0, 1, 4, 9, 16]\n"
     ]
    }
   ],
   "source": [
    "print(\"\\nExamples:\")\n",
    "def fibonacci_generator(n):\n",
    "    a, b = 0, 1\n",
    "    count = 0\n",
    "    while count < n:\n",
    "        yield a\n",
    "        a, b = b, a + b\n",
    "        count += 1\n",
    "\n",
    "print(\"First 8 Fibonacci numbers:\")\n",
    "for num in fibonacci_generator(8):\n",
    "    print(num, end=\" \")\n",
    "print()\n",
    "\n",
    "def infinite_counter():\n",
    "    num = 0\n",
    "    while True:\n",
    "        yield num\n",
    "        num += 1\n",
    "\n",
    "counter = infinite_counter()\n",
    "print(\"First 5 numbers from infinite counter:\")\n",
    "for _ in range(5):\n",
    "    print(next(counter), end=\" \")\n",
    "print()\n",
    "\n",
    "\n",
    "squares = (x**2 for x in range(5))\n",
    "print(\"Squares from generator expression:\", list(squares))"
   ]
  },
  {
   "cell_type": "markdown",
   "id": "cf7694c1",
   "metadata": {},
   "source": [
    "## Practice"
   ]
  },
  {
   "cell_type": "code",
   "execution_count": 10,
   "id": "6bd8cca3",
   "metadata": {},
   "outputs": [
    {
     "name": "stdout",
     "output_type": "stream",
     "text": [
      "\n",
      "Practice Question 5:\n",
      "Create a generator that:\n",
      "1. Yields prime numbers up to a given limit\n",
      "2. Uses the Sieve of Eratosthenes algorithm\n",
      "3. Can be used in a for loop\n",
      "4. Also create a generator expression for even squares\n"
     ]
    }
   ],
   "source": [
    "print(\"\\nPractice Question 5:\")\n",
    "print(\"Create a generator that:\")\n",
    "print(\"1. Yields prime numbers up to a given limit\")\n",
    "print(\"2. Uses the Sieve of Eratosthenes algorithm\")\n",
    "print(\"3. Can be used in a for loop\")\n",
    "print(\"4. Also create a generator expression for even squares\")"
   ]
  },
  {
   "cell_type": "markdown",
   "id": "4dfecc15",
   "metadata": {},
   "source": [
    "# 6. Advanced Comprehensions"
   ]
  },
  {
   "cell_type": "markdown",
   "id": "e7c4c258",
   "metadata": {},
   "source": [
    "Comprehensions with conditions and nested structures."
   ]
  },
  {
   "cell_type": "markdown",
   "id": "916e41e7",
   "metadata": {},
   "source": [
    "## Example"
   ]
  },
  {
   "cell_type": "code",
   "execution_count": 11,
   "id": "943b08f0",
   "metadata": {},
   "outputs": [
    {
     "name": "stdout",
     "output_type": "stream",
     "text": [
      "\n",
      "Examples:\n",
      "Even squares: [0, 4, 16, 36, 64]\n",
      "Word lengths: {'apple': 5, 'banana': 6, 'cherry': 6}\n",
      "Unique characters: {'d', 'e', 'l', 'r', 'w', 'h', 'o'}\n",
      "Flattened matrix: [1, 2, 3, 4, 5, 6, 7, 8, 9]\n"
     ]
    }
   ],
   "source": [
    "print(\"\\nExamples:\")\n",
    "\n",
    "even_squares = [x**2 for x in range(10) if x % 2 == 0]\n",
    "print(\"Even squares:\", even_squares)\n",
    "\n",
    "\n",
    "word_lengths = {word: len(word) for word in [\"apple\", \"banana\", \"cherry\"]}\n",
    "print(\"Word lengths:\", word_lengths)\n",
    "\n",
    "\n",
    "unique_chars = {char for word in [\"hello\", \"world\"] for char in word}\n",
    "print(\"Unique characters:\", unique_chars)\n",
    "\n",
    "\n",
    "matrix = [[1, 2, 3], [4, 5, 6], [7, 8, 9]]\n",
    "flattened = [num for row in matrix for num in row]\n",
    "print(\"Flattened matrix:\", flattened)"
   ]
  },
  {
   "cell_type": "markdown",
   "id": "296d13e3",
   "metadata": {},
   "source": [
    "## Practice"
   ]
  },
  {
   "cell_type": "code",
   "execution_count": 12,
   "id": "18be7eb1",
   "metadata": {},
   "outputs": [
    {
     "name": "stdout",
     "output_type": "stream",
     "text": [
      "\n",
      "Practice Question 6:\n",
      "Using comprehensions:\n",
      "1. Create a dictionary mapping numbers to their factors\n",
      "2. Create a set of all vowels from a list of words\n",
      "3. Create a list of tuples (number, square, cube) for numbers 1-5\n",
      "4. Create a nested list comprehension for a 3x3 identity matrix\n"
     ]
    }
   ],
   "source": [
    "print(\"\\nPractice Question 6:\")\n",
    "print(\"Using comprehensions:\")\n",
    "print(\"1. Create a dictionary mapping numbers to their factors\")\n",
    "print(\"2. Create a set of all vowels from a list of words\")\n",
    "print(\"3. Create a list of tuples (number, square, cube) for numbers 1-5\")\n",
    "print(\"4. Create a nested list comprehension for a 3x3 identity matrix\")"
   ]
  },
  {
   "cell_type": "markdown",
   "id": "0397d215",
   "metadata": {},
   "source": [
    "# 7. Unpacking Operators"
   ]
  },
  {
   "cell_type": "markdown",
   "id": "98367368",
   "metadata": {},
   "source": [
    "* for iterables and ** for dictionaries."
   ]
  },
  {
   "cell_type": "markdown",
   "id": "b895d1e5",
   "metadata": {},
   "source": [
    "## Example"
   ]
  },
  {
   "cell_type": "code",
   "execution_count": 13,
   "id": "b618ef78",
   "metadata": {},
   "outputs": [
    {
     "name": "stdout",
     "output_type": "stream",
     "text": [
      "\n",
      "Examples:\n",
      "Unpacked numbers: 1 2 3\n",
      "Merged lists: [1, 2, 3, 4, 5, 6]\n",
      "Merged dictionaries: {'a': 1, 'b': 2, 'c': 3, 'd': 4}\n",
      "Args: (1, 2, 3)\n",
      "Kwargs: {'name': 'Alice', 'age': 25}\n"
     ]
    }
   ],
   "source": [
    "print(\"\\nExamples:\")\n",
    "\n",
    "numbers = [1, 2, 3]\n",
    "print(\"Unpacked numbers:\", *numbers)\n",
    "\n",
    "\n",
    "list1 = [1, 2, 3]\n",
    "list2 = [4, 5, 6]\n",
    "merged = [*list1, *list2]\n",
    "print(\"Merged lists:\", merged)\n",
    "\n",
    "\n",
    "dict1 = {\"a\": 1, \"b\": 2}\n",
    "dict2 = {\"c\": 3, \"d\": 4}\n",
    "merged_dict = {**dict1, **dict2}\n",
    "print(\"Merged dictionaries:\", merged_dict)\n",
    "\n",
    "\n",
    "def print_args(*args, **kwargs):\n",
    "    print(\"Args:\", args)\n",
    "    print(\"Kwargs:\", kwargs)\n",
    "\n",
    "args_list = [1, 2, 3]\n",
    "kwargs_dict = {\"name\": \"Alice\", \"age\": 25}\n",
    "print_args(*args_list, **kwargs_dict)"
   ]
  },
  {
   "cell_type": "markdown",
   "id": "f2f32d56",
   "metadata": {},
   "source": [
    "## Practice"
   ]
  },
  {
   "cell_type": "code",
   "execution_count": 14,
   "id": "9396002e",
   "metadata": {},
   "outputs": [
    {
     "name": "stdout",
     "output_type": "stream",
     "text": [
      "\n",
      "Practice Question 7:\n",
      "Create a function that:\n",
      "1. Takes any number of lists as arguments\n",
      "2. Uses unpacking to merge all lists\n",
      "3. Removes duplicates while preserving order\n",
      "4. Returns the merged, deduplicated list\n"
     ]
    }
   ],
   "source": [
    "print(\"\\nPractice Question 7:\")\n",
    "print(\"Create a function that:\")\n",
    "print(\"1. Takes any number of lists as arguments\")\n",
    "print(\"2. Uses unpacking to merge all lists\")\n",
    "print(\"3. Removes duplicates while preserving order\")\n",
    "print(\"4. Returns the merged, deduplicated list\")"
   ]
  },
  {
   "cell_type": "markdown",
   "id": "40556610",
   "metadata": {},
   "source": [
    "# 8. Type Hinting"
   ]
  },
  {
   "cell_type": "markdown",
   "id": "d098f421",
   "metadata": {},
   "source": [
    "Type hints help with code documentation and IDE support."
   ]
  },
  {
   "cell_type": "markdown",
   "id": "fcd39429",
   "metadata": {},
   "source": [
    "## Example"
   ]
  },
  {
   "cell_type": "code",
   "execution_count": 15,
   "id": "90d3295a",
   "metadata": {},
   "outputs": [
    {
     "name": "stdout",
     "output_type": "stream",
     "text": [
      "\n",
      "Examples:\n",
      "Hello Alice, you are 25 years old\n",
      "2.5\n",
      "{'name': 'Alice', 'age': 25}\n"
     ]
    }
   ],
   "source": [
    "print(\"\\nExamples:\")\n",
    "from typing import List, Dict, Tuple, Optional, Union, Callable\n",
    "\n",
    "def greet_person(name: str, age: int) -> str:\n",
    "    return f\"Hello {name}, you are {age} years old\"\n",
    "\n",
    "def calculate_average(numbers: List[float]) -> float:\n",
    "    return sum(numbers) / len(numbers)\n",
    "\n",
    "def get_user_info(user_id: int) -> Optional[Dict[str, Union[str, int]]]:\n",
    "    # Simulate database lookup\n",
    "    if user_id == 1:\n",
    "        return {\"name\": \"Alice\", \"age\": 25}\n",
    "    return None\n",
    "\n",
    "def process_data(data: List[Union[int, str]], \n",
    "                processor: Callable[[Union[int, str]], str]) -> List[str]:\n",
    "    return [processor(item) for item in data]\n",
    "\n",
    "print(greet_person(\"Alice\", 25))\n",
    "print(calculate_average([1.5, 2.5, 3.5]))\n",
    "print(get_user_info(1))"
   ]
  },
  {
   "cell_type": "markdown",
   "id": "ba5e6e24",
   "metadata": {},
   "source": [
    "## Practice"
   ]
  },
  {
   "cell_type": "code",
   "execution_count": 16,
   "id": "6b7fdf62",
   "metadata": {},
   "outputs": [
    {
     "name": "stdout",
     "output_type": "stream",
     "text": [
      "\n",
      "Practice Question 8:\n",
      "Create functions with type hints that:\n",
      "1. Takes a list of numbers and returns their statistics (min, max, avg)\n",
      "2. Takes a dictionary of user data and validates required fields\n",
      "3. Takes a function and applies it to each element of a list\n",
      "4. Uses Optional and Union types appropriately\n"
     ]
    }
   ],
   "source": [
    "print(\"\\nPractice Question 8:\")\n",
    "print(\"Create functions with type hints that:\")\n",
    "print(\"1. Takes a list of numbers and returns their statistics (min, max, avg)\")\n",
    "print(\"2. Takes a dictionary of user data and validates required fields\")\n",
    "print(\"3. Takes a function and applies it to each element of a list\")\n",
    "print(\"4. Uses Optional and Union types appropriately\")"
   ]
  },
  {
   "cell_type": "markdown",
   "id": "585f896c",
   "metadata": {},
   "source": [
    "# 9. Virtual Environments and pip"
   ]
  },
  {
   "cell_type": "markdown",
   "id": "c075d971",
   "metadata": {},
   "source": [
    "Virtual environments isolate project dependencies."
   ]
  },
  {
   "cell_type": "markdown",
   "id": "995623ac",
   "metadata": {},
   "source": [
    "## Example"
   ]
  },
  {
   "cell_type": "code",
   "execution_count": 17,
   "id": "a7f0d459",
   "metadata": {},
   "outputs": [
    {
     "name": "stdout",
     "output_type": "stream",
     "text": [
      "\n",
      "Examples:\n",
      "Virtual Environment Commands:\n",
      "# Create virtual environment:\n",
      "python -m venv myenv\n",
      "# Activate (Windows):\n",
      "myenv\\Scripts\\activate\n",
      "# Activate (macOS/Linux):\n",
      "source myenv/bin/activate\n",
      "# Install packages:\n",
      "pip install package_name\n",
      "# Create requirements.txt:\n",
      "pip freeze > requirements.txt\n",
      "# Install from requirements.txt:\n",
      "pip install -r requirements.txt\n"
     ]
    }
   ],
   "source": [
    "print(\"\\nExamples:\")\n",
    "print(\"Virtual Environment Commands:\")\n",
    "print(\"# Create virtual environment:\")\n",
    "print(\"python -m venv myenv\")\n",
    "print(\"# Activate (Windows):\")\n",
    "print(\"myenv\\\\Scripts\\\\activate\")\n",
    "print(\"# Activate (macOS/Linux):\")\n",
    "print(\"source myenv/bin/activate\")\n",
    "print(\"# Install packages:\")\n",
    "print(\"pip install package_name\")\n",
    "print(\"# Create requirements.txt:\")\n",
    "print(\"pip freeze > requirements.txt\")\n",
    "print(\"# Install from requirements.txt:\")\n",
    "print(\"pip install -r requirements.txt\")"
   ]
  },
  {
   "cell_type": "markdown",
   "id": "234cff37",
   "metadata": {},
   "source": [
    "## Practice"
   ]
  },
  {
   "cell_type": "code",
   "execution_count": 18,
   "id": "a312edb6",
   "metadata": {},
   "outputs": [
    {
     "name": "stdout",
     "output_type": "stream",
     "text": [
      "\n",
      "Practice Question 9:\n",
      "Set up a virtual environment and:\n",
      "1. Install numpy, pandas, and matplotlib\n",
      "2. Create a requirements.txt file\n",
      "3. Write a script that uses these packages\n",
      "4. Deactivate and reactivate the environment\n"
     ]
    }
   ],
   "source": [
    "print(\"\\nPractice Question 9:\")\n",
    "print(\"Set up a virtual environment and:\")\n",
    "print(\"1. Install numpy, pandas, and matplotlib\")\n",
    "print(\"2. Create a requirements.txt file\")\n",
    "print(\"3. Write a script that uses these packages\")\n",
    "print(\"4. Deactivate and reactivate the environment\")"
   ]
  },
  {
   "cell_type": "markdown",
   "id": "28da2e6d",
   "metadata": {},
   "source": [
    "# 10. Packaging"
   ]
  },
  {
   "cell_type": "markdown",
   "id": "9bd26682",
   "metadata": {},
   "source": [
    "Creating distributable Python packages."
   ]
  },
  {
   "cell_type": "markdown",
   "id": "6b34523b",
   "metadata": {},
   "source": [
    "## Example"
   ]
  },
  {
   "cell_type": "code",
   "execution_count": 19,
   "id": "248f4156",
   "metadata": {},
   "outputs": [
    {
     "name": "stdout",
     "output_type": "stream",
     "text": [
      "\n",
      "Examples:\n",
      "Basic package structure:\n",
      "my_package/\n",
      "├── __init__.py\n",
      "├── module1.py\n",
      "├── module2.py\n",
      "├── setup.py\n",
      "└── README.md\n",
      "\n",
      "setup.py example:\n",
      "from setuptools import setup, find_packages\n",
      "setup(\n",
      "    name='my_package',\n",
      "    version='1.0.0',\n",
      "    packages=find_packages(),\n",
      "    install_requires=['numpy'],\n",
      "    author='Your Name',\n",
      "    description='A sample package'\n",
      ")\n"
     ]
    }
   ],
   "source": [
    "print(\"\\nExamples:\")\n",
    "print(\"Basic package structure:\")\n",
    "print(\"my_package/\")\n",
    "print(\"├── __init__.py\")\n",
    "print(\"├── module1.py\")\n",
    "print(\"├── module2.py\")\n",
    "print(\"├── setup.py\")\n",
    "print(\"└── README.md\")\n",
    "\n",
    "print(\"\\nsetup.py example:\")\n",
    "print(\"from setuptools import setup, find_packages\")\n",
    "print(\"setup(\")\n",
    "print(\"    name='my_package',\")\n",
    "print(\"    version='1.0.0',\")\n",
    "print(\"    packages=find_packages(),\")\n",
    "print(\"    install_requires=['numpy'],\")\n",
    "print(\"    author='Your Name',\")\n",
    "print(\"    description='A sample package'\")\n",
    "print(\")\")"
   ]
  },
  {
   "cell_type": "markdown",
   "id": "2fdeb287",
   "metadata": {},
   "source": [
    "## Practice"
   ]
  },
  {
   "cell_type": "code",
   "execution_count": 20,
   "id": "798e3d60",
   "metadata": {},
   "outputs": [
    {
     "name": "stdout",
     "output_type": "stream",
     "text": [
      "\n",
      "Practice Question 10:\n",
      "Create a simple package that:\n",
      "1. Has multiple modules with different functions\n",
      "2. Includes a setup.py file\n",
      "3. Can be installed with pip install -e .\n",
      "4. Has proper __init__.py files\n"
     ]
    }
   ],
   "source": [
    "print(\"\\nPractice Question 10:\")\n",
    "print(\"Create a simple package that:\")\n",
    "print(\"1. Has multiple modules with different functions\")\n",
    "print(\"2. Includes a setup.py file\")\n",
    "print(\"3. Can be installed with pip install -e .\")\n",
    "print(\"4. Has proper __init__.py files\")"
   ]
  },
  {
   "cell_type": "markdown",
   "id": "6fefb7c0",
   "metadata": {},
   "source": [
    "# 11. Closures"
   ]
  },
  {
   "cell_type": "markdown",
   "id": "4a9225e1",
   "metadata": {},
   "source": [
    "Functions that remember values from their enclosing scope."
   ]
  },
  {
   "cell_type": "markdown",
   "id": "d5160470",
   "metadata": {},
   "source": [
    "## Example"
   ]
  },
  {
   "cell_type": "code",
   "execution_count": 21,
   "id": "e79b2eae",
   "metadata": {},
   "outputs": [
    {
     "name": "stdout",
     "output_type": "stream",
     "text": [
      "\n",
      "Examples:\n",
      "Add five to 3: 8\n",
      "Counter values: 1 2 3\n"
     ]
    }
   ],
   "source": [
    "print(\"\\nExamples:\")\n",
    "def outer_function(x):\n",
    "    def inner_function(y):\n",
    "        return x + y  # x is captured from outer scope\n",
    "    return inner_function\n",
    "\n",
    "add_five = outer_function(5)\n",
    "print(\"Add five to 3:\", add_five(3))\n",
    "\n",
    "def counter():\n",
    "    count = 0\n",
    "    def increment():\n",
    "        nonlocal count\n",
    "        count += 1\n",
    "        return count\n",
    "    return increment\n",
    "\n",
    "my_counter = counter()\n",
    "print(\"Counter values:\", my_counter(), my_counter(), my_counter())"
   ]
  },
  {
   "cell_type": "markdown",
   "id": "5ce682c5",
   "metadata": {},
   "source": [
    "## Practice"
   ]
  },
  {
   "cell_type": "code",
   "execution_count": 22,
   "id": "e7cd48af",
   "metadata": {},
   "outputs": [
    {
     "name": "stdout",
     "output_type": "stream",
     "text": [
      "\n",
      "Practice Question 11:\n",
      "Create a closure that:\n",
      "1. Remembers a list of numbers\n",
      "2. Has an inner function that adds a number to the list\n",
      "3. Has another inner function that returns the sum of all numbers\n",
      "4. Demonstrates the closure maintaining state\n"
     ]
    }
   ],
   "source": [
    "print(\"\\nPractice Question 11:\")\n",
    "print(\"Create a closure that:\")\n",
    "print(\"1. Remembers a list of numbers\")\n",
    "print(\"2. Has an inner function that adds a number to the list\")\n",
    "print(\"3. Has another inner function that returns the sum of all numbers\")\n",
    "print(\"4. Demonstrates the closure maintaining state\")"
   ]
  },
  {
   "cell_type": "markdown",
   "id": "d50dfbd8",
   "metadata": {},
   "source": [
    "# 12. Decorators"
   ]
  },
  {
   "cell_type": "markdown",
   "id": "d6d34f05",
   "metadata": {},
   "source": [
    "Functions that modify other functions."
   ]
  },
  {
   "cell_type": "markdown",
   "id": "3316ec99",
   "metadata": {},
   "source": [
    "## Example"
   ]
  },
  {
   "cell_type": "code",
   "execution_count": 23,
   "id": "36042b39",
   "metadata": {},
   "outputs": [
    {
     "name": "stdout",
     "output_type": "stream",
     "text": [
      "\n",
      "Examples:\n",
      "fibonacci took 0.0000 seconds\n",
      "fibonacci took 0.0000 seconds\n",
      "fibonacci took 0.0000 seconds\n",
      "fibonacci took 0.0000 seconds\n",
      "fibonacci took 0.0000 seconds\n",
      "fibonacci took 0.0000 seconds\n",
      "fibonacci took 0.0000 seconds\n",
      "fibonacci took 0.0000 seconds\n",
      "fibonacci took 0.0000 seconds\n",
      "fibonacci took 0.0000 seconds\n",
      "fibonacci took 0.0000 seconds\n",
      "fibonacci took 0.0000 seconds\n",
      "fibonacci took 0.0000 seconds\n",
      "fibonacci took 0.0000 seconds\n",
      "fibonacci took 0.0000 seconds\n",
      "fibonacci took 0.0000 seconds\n",
      "fibonacci took 0.0000 seconds\n",
      "fibonacci took 0.0000 seconds\n",
      "fibonacci took 0.0000 seconds\n",
      "Fibonacci(10): 55\n"
     ]
    }
   ],
   "source": [
    "print(\"\\nExamples:\")\n",
    "import time\n",
    "import functools\n",
    "\n",
    "def timer_decorator(func):\n",
    "    @functools.wraps(func)\n",
    "    def wrapper(*args, **kwargs):\n",
    "        start_time = time.time()\n",
    "        result = func(*args, **kwargs)\n",
    "        end_time = time.time()\n",
    "        print(f\"{func.__name__} took {end_time - start_time:.4f} seconds\")\n",
    "        return result\n",
    "    return wrapper\n",
    "\n",
    "def cache_decorator(func):\n",
    "    cache = {}\n",
    "    @functools.wraps(func)\n",
    "    def wrapper(*args):\n",
    "        if args not in cache:\n",
    "            cache[args] = func(*args)\n",
    "        return cache[args]\n",
    "    return wrapper\n",
    "\n",
    "@timer_decorator\n",
    "@cache_decorator\n",
    "def fibonacci(n):\n",
    "    if n < 2:\n",
    "        return n\n",
    "    return fibonacci(n-1) + fibonacci(n-2)\n",
    "\n",
    "print(\"Fibonacci(10):\", fibonacci(10))"
   ]
  },
  {
   "cell_type": "markdown",
   "id": "96eb59a6",
   "metadata": {},
   "source": [
    "## Practice"
   ]
  },
  {
   "cell_type": "code",
   "execution_count": 24,
   "id": "52aa369d",
   "metadata": {},
   "outputs": [
    {
     "name": "stdout",
     "output_type": "stream",
     "text": [
      "\n",
      "Practice Question 12:\n",
      "Create decorators that:\n",
      "1. Logs function calls with arguments and return values\n",
      "2. Retries a function up to 3 times if it raises an exception\n",
      "3. Validates function arguments based on type hints\n",
      "4. Measures memory usage of a function\n"
     ]
    }
   ],
   "source": [
    "print(\"\\nPractice Question 12:\")\n",
    "print(\"Create decorators that:\")\n",
    "print(\"1. Logs function calls with arguments and return values\")\n",
    "print(\"2. Retries a function up to 3 times if it raises an exception\")\n",
    "print(\"3. Validates function arguments based on type hints\")\n",
    "print(\"4. Measures memory usage of a function\")"
   ]
  },
  {
   "cell_type": "markdown",
   "id": "b3cac7aa",
   "metadata": {},
   "source": [
    "# 13. Context Managers"
   ]
  },
  {
   "cell_type": "markdown",
   "id": "b3bae984",
   "metadata": {},
   "source": [
    "Objects that can be used with the 'with' statement."
   ]
  },
  {
   "cell_type": "markdown",
   "id": "b38ba006",
   "metadata": {},
   "source": [
    "## Example"
   ]
  },
  {
   "cell_type": "code",
   "execution_count": 25,
   "id": "cbb65706",
   "metadata": {},
   "outputs": [
    {
     "name": "stdout",
     "output_type": "stream",
     "text": [
      "\n",
      "Examples:\n",
      "Operation took 1.0051 seconds\n"
     ]
    }
   ],
   "source": [
    "print(\"\\nExamples:\")\n",
    "class FileManager:\n",
    "    def __init__(self, filename, mode):\n",
    "        self.filename = filename\n",
    "        self.mode = mode\n",
    "        self.file = None\n",
    "    \n",
    "    def __enter__(self):\n",
    "        self.file = open(self.filename, self.mode)\n",
    "        return self.file\n",
    "    \n",
    "    def __exit__(self, exc_type, exc_val, exc_tb):\n",
    "        if self.file:\n",
    "            self.file.close()\n",
    "\n",
    "\n",
    "with FileManager(\"test.txt\", \"w\") as f:\n",
    "    f.write(\"Hello, World!\")\n",
    "\n",
    "\n",
    "from contextlib import contextmanager\n",
    "\n",
    "@contextmanager\n",
    "def timer():\n",
    "    start = time.time()\n",
    "    yield\n",
    "    end = time.time()\n",
    "    print(f\"Operation took {end - start:.4f} seconds\")\n",
    "\n",
    "with timer():\n",
    "    time.sleep(1)"
   ]
  },
  {
   "cell_type": "markdown",
   "id": "6ea56a26",
   "metadata": {},
   "source": [
    "## Practice"
   ]
  },
  {
   "cell_type": "code",
   "execution_count": 26,
   "id": "5ac2c87d",
   "metadata": {},
   "outputs": [
    {
     "name": "stdout",
     "output_type": "stream",
     "text": [
      "\n",
      "Practice Question 13:\n",
      "Create context managers that:\n",
      "1. Temporarily changes the working directory\n",
      "2. Suppresses specific exceptions\n",
      "3. Measures and logs the time taken for operations\n",
      "4. Manages database connections\n"
     ]
    }
   ],
   "source": [
    "print(\"\\nPractice Question 13:\")\n",
    "print(\"Create context managers that:\")\n",
    "print(\"1. Temporarily changes the working directory\")\n",
    "print(\"2. Suppresses specific exceptions\")\n",
    "print(\"3. Measures and logs the time taken for operations\")\n",
    "print(\"4. Manages database connections\")"
   ]
  },
  {
   "cell_type": "markdown",
   "id": "acb5aa0f",
   "metadata": {},
   "source": [
    "# 14. Regular Expressions"
   ]
  },
  {
   "cell_type": "markdown",
   "id": "7a29c0b8",
   "metadata": {},
   "source": [
    "Pattern matching and text processing."
   ]
  },
  {
   "cell_type": "markdown",
   "id": "0535d83a",
   "metadata": {},
   "source": [
    "## Example"
   ]
  },
  {
   "cell_type": "code",
   "execution_count": 27,
   "id": "5019019a",
   "metadata": {},
   "outputs": [
    {
     "name": "stdout",
     "output_type": "stream",
     "text": [
      "\n",
      "Examples:\n",
      "Emails found: ['alice@example.com']\n",
      "Phones found: ['123-456-7890']\n",
      "After substitution: hi World, hi Python, hi everyone\n",
      "Valid email? True\n",
      "Valid email? False\n"
     ]
    }
   ],
   "source": [
    "print(\"\\nExamples:\")\n",
    "import re\n",
    "\n",
    "\n",
    "text = \"My email is alice@example.com and phone is 123-456-7890\"\n",
    "email_pattern = r'\\b[A-Za-z0-9._%+-]+@[A-Za-z0-9.-]+\\.[A-Z|a-z]{2,}\\b'\n",
    "phone_pattern = r'\\d{3}-\\d{3}-\\d{4}'\n",
    "\n",
    "emails = re.findall(email_pattern, text)\n",
    "phones = re.findall(phone_pattern, text)\n",
    "\n",
    "print(\"Emails found:\", emails)\n",
    "print(\"Phones found:\", phones)\n",
    "\n",
    "\n",
    "text = \"Hello World, hello Python, hello everyone\"\n",
    "new_text = re.sub(r'hello', 'hi', text, flags=re.IGNORECASE)\n",
    "print(\"After substitution:\", new_text)\n",
    "\n",
    "\n",
    "def is_valid_email(email):\n",
    "    pattern = r'^[A-Za-z0-9._%+-]+@[A-Za-z0-9.-]+\\.[A-Z|a-z]{2,}$'\n",
    "    return bool(re.match(pattern, email))\n",
    "\n",
    "print(\"Valid email?\", is_valid_email(\"alice@example.com\"))\n",
    "print(\"Valid email?\", is_valid_email(\"invalid-email\"))"
   ]
  },
  {
   "cell_type": "markdown",
   "id": "bfd51a0e",
   "metadata": {},
   "source": [
    "## Practice"
   ]
  },
  {
   "cell_type": "code",
   "execution_count": 28,
   "id": "1a712b4c",
   "metadata": {},
   "outputs": [
    {
     "name": "stdout",
     "output_type": "stream",
     "text": [
      "\n",
      "Practice Question 14:\n",
      "Create regex patterns that:\n",
      "1. Validates phone numbers in different formats\n",
      "2. Extracts dates in MM/DD/YYYY format\n",
      "3. Finds all words that start with a capital letter\n",
      "4. Validates password strength (8+ chars, uppercase, lowercase, digit)\n"
     ]
    }
   ],
   "source": [
    "print(\"\\nPractice Question 14:\")\n",
    "print(\"Create regex patterns that:\")\n",
    "print(\"1. Validates phone numbers in different formats\")\n",
    "print(\"2. Extracts dates in MM/DD/YYYY format\")\n",
    "print(\"3. Finds all words that start with a capital letter\")\n",
    "print(\"4. Validates password strength (8+ chars, uppercase, lowercase, digit)\")"
   ]
  },
  {
   "cell_type": "markdown",
   "id": "05e1d58d",
   "metadata": {},
   "source": [
    "# 15. Testing (pytest, unittest)"
   ]
  },
  {
   "cell_type": "markdown",
   "id": "52213861",
   "metadata": {},
   "source": [
    "Writing and running tests for your code."
   ]
  },
  {
   "cell_type": "markdown",
   "id": "3966ff1f",
   "metadata": {},
   "source": [
    "## Example"
   ]
  },
  {
   "cell_type": "code",
   "execution_count": 29,
   "id": "5c2b028f",
   "metadata": {},
   "outputs": [
    {
     "name": "stdout",
     "output_type": "stream",
     "text": [
      "\n",
      "Examples:\n",
      "\n",
      "Pytest example (test_math.py):\n",
      "import pytest\n",
      "from math_operations import MathOperations\n",
      "\n",
      "@pytest.fixture\n",
      "def math_ops():\n",
      "    return MathOperations()\n",
      "\n",
      "def test_add(math_ops):\n",
      "    assert math_ops.add(2, 3) == 5\n",
      "\n",
      "def test_divide_by_zero(math_ops):\n",
      "    with pytest.raises(ValueError):\n",
      "        math_ops.divide(5, 0)\n"
     ]
    }
   ],
   "source": [
    "print(\"\\nExamples:\")\n",
    "import unittest\n",
    "\n",
    "class MathOperations:\n",
    "    def add(self, a, b):\n",
    "        return a + b\n",
    "    \n",
    "    def multiply(self, a, b):\n",
    "        return a * b\n",
    "    \n",
    "    def divide(self, a, b):\n",
    "        if b == 0:\n",
    "            raise ValueError(\"Cannot divide by zero\")\n",
    "        return a / b\n",
    "\n",
    "class TestMathOperations(unittest.TestCase):\n",
    "    def setUp(self):\n",
    "        self.math = MathOperations()\n",
    "    \n",
    "    def test_add(self):\n",
    "        self.assertEqual(self.math.add(2, 3), 5)\n",
    "        self.assertEqual(self.math.add(-1, 1), 0)\n",
    "    \n",
    "    def test_multiply(self):\n",
    "        self.assertEqual(self.math.multiply(2, 3), 6)\n",
    "        self.assertEqual(self.math.multiply(0, 5), 0)\n",
    "    \n",
    "    def test_divide(self):\n",
    "        self.assertEqual(self.math.divide(6, 2), 3)\n",
    "        self.assertEqual(self.math.divide(5, 2), 2.5)\n",
    "    \n",
    "    def test_divide_by_zero(self):\n",
    "        with self.assertRaises(ValueError):\n",
    "            self.math.divide(5, 0)\n",
    "\n",
    "\n",
    "print(\"\\nPytest example (test_math.py):\")\n",
    "print(\"import pytest\")\n",
    "print(\"from math_operations import MathOperations\")\n",
    "print(\"\")\n",
    "print(\"@pytest.fixture\")\n",
    "print(\"def math_ops():\")\n",
    "print(\"    return MathOperations()\")\n",
    "print(\"\")\n",
    "print(\"def test_add(math_ops):\")\n",
    "print(\"    assert math_ops.add(2, 3) == 5\")\n",
    "print(\"\")\n",
    "print(\"def test_divide_by_zero(math_ops):\")\n",
    "print(\"    with pytest.raises(ValueError):\")\n",
    "print(\"        math_ops.divide(5, 0)\")"
   ]
  },
  {
   "cell_type": "markdown",
   "id": "482bc481",
   "metadata": {},
   "source": [
    "## Practice"
   ]
  },
  {
   "cell_type": "code",
   "execution_count": 30,
   "id": "66c781ef",
   "metadata": {},
   "outputs": [
    {
     "name": "stdout",
     "output_type": "stream",
     "text": [
      "\n",
      "Practice Question 15:\n",
      "Create comprehensive tests for:\n",
      "1. A Calculator class with basic operations\n",
      "2. A StringProcessor class with text manipulation methods\n",
      "3. A BankAccount class with deposit/withdraw operations\n",
      "4. Use both unittest and pytest frameworks\n"
     ]
    }
   ],
   "source": [
    "print(\"\\nPractice Question 15:\")\n",
    "print(\"Create comprehensive tests for:\")\n",
    "print(\"1. A Calculator class with basic operations\")\n",
    "print(\"2. A StringProcessor class with text manipulation methods\")\n",
    "print(\"3. A BankAccount class with deposit/withdraw operations\")\n",
    "print(\"4. Use both unittest and pytest frameworks\")"
   ]
  },
  {
   "cell_type": "markdown",
   "id": "1493606b",
   "metadata": {},
   "source": [
    "# 16. Logging"
   ]
  },
  {
   "cell_type": "markdown",
   "id": "4d0d461d",
   "metadata": {},
   "source": [
    "Proper logging for debugging and monitoring."
   ]
  },
  {
   "cell_type": "markdown",
   "id": "c861ac2c",
   "metadata": {},
   "source": [
    "## Example"
   ]
  },
  {
   "cell_type": "code",
   "execution_count": 31,
   "id": "aff1e854",
   "metadata": {},
   "outputs": [
    {
     "name": "stdout",
     "output_type": "stream",
     "text": [
      "\n",
      "Examples:\n"
     ]
    }
   ],
   "source": [
    "print(\"\\nExamples:\")\n",
    "import logging\n",
    "\n",
    "\n",
    "logging.basicConfig(\n",
    "    level=logging.INFO,\n",
    "    format='%(asctime)s - %(name)s - %(levelname)s - %(message)s',\n",
    "    handlers=[\n",
    "        logging.FileHandler('app.log'),\n",
    "        logging.StreamHandler()\n",
    "    ]\n",
    ")\n",
    "\n",
    "logger = logging.getLogger(__name__)\n",
    "\n",
    "def process_data(data):\n",
    "    logger.info(f\"Processing {len(data)} items\")\n",
    "    \n",
    "    try:\n",
    "        result = sum(data)\n",
    "        logger.info(f\"Processing completed successfully. Sum: {result}\")\n",
    "        return result\n",
    "    except Exception as e:\n",
    "        logger.error(f\"Error processing data: {e}\")\n",
    "        raise\n",
    "\n",
    "\n",
    "class CustomLogger:\n",
    "    def __init__(self, name):\n",
    "        self.logger = logging.getLogger(name)\n",
    "        self.logger.setLevel(logging.DEBUG)\n",
    "        \n",
    "        # Create handlers\n",
    "        file_handler = logging.FileHandler(f'{name}.log')\n",
    "        console_handler = logging.StreamHandler()\n",
    "        \n",
    "        # Create formatters\n",
    "        formatter = logging.Formatter(\n",
    "            '%(asctime)s - %(name)s - %(levelname)s - %(message)s'\n",
    "        )\n",
    "        file_handler.setFormatter(formatter)\n",
    "        console_handler.setFormatter(formatter)\n",
    "        \n",
    "        # Add handlers\n",
    "        self.logger.addHandler(file_handler)\n",
    "        self.logger.addHandler(console_handler)\n",
    "    \n",
    "    def info(self, message):\n",
    "        self.logger.info(message)\n",
    "    \n",
    "    def error(self, message):\n",
    "        self.logger.error(message)\n",
    "    \n",
    "    def debug(self, message):\n",
    "        self.logger.debug(message)"
   ]
  },
  {
   "cell_type": "markdown",
   "id": "1f8aefcd",
   "metadata": {},
   "source": [
    "## Practice"
   ]
  },
  {
   "cell_type": "code",
   "execution_count": 32,
   "id": "cea4b22a",
   "metadata": {},
   "outputs": [
    {
     "name": "stdout",
     "output_type": "stream",
     "text": [
      "\n",
      "Practice Question 16:\n",
      "Create a logging system that:\n",
      "1. Logs different levels (DEBUG, INFO, WARNING, ERROR)\n",
      "2. Writes to both file and console\n",
      "3. Includes timestamps and log levels\n",
      "4. Creates a custom logger class for your application\n"
     ]
    }
   ],
   "source": [
    "print(\"\\nPractice Question 16:\")\n",
    "print(\"Create a logging system that:\")\n",
    "print(\"1. Logs different levels (DEBUG, INFO, WARNING, ERROR)\")\n",
    "print(\"2. Writes to both file and console\")\n",
    "print(\"3. Includes timestamps and log levels\")\n",
    "print(\"4. Creates a custom logger class for your application\")"
   ]
  },
  {
   "cell_type": "markdown",
   "id": "62058ab2",
   "metadata": {},
   "source": [
    "# 17. Advanced Data Structures"
   ]
  },
  {
   "cell_type": "markdown",
   "id": "660c88ac",
   "metadata": {},
   "source": [
    "Collections module and custom data structures."
   ]
  },
  {
   "cell_type": "markdown",
   "id": "f4a06084",
   "metadata": {},
   "source": [
    "## Example"
   ]
  },
  {
   "cell_type": "code",
   "execution_count": 33,
   "id": "f6a7662b",
   "metadata": {},
   "outputs": [
    {
     "name": "stdout",
     "output_type": "stream",
     "text": [
      "\n",
      "Examples:\n",
      "Word count: {'apple': 2, 'banana': 2, 'cherry': 1}\n",
      "Letter count: Counter({'l': 3, 'o': 2, 'h': 1, 'e': 1, ' ': 1, 'w': 1, 'r': 1, 'd': 1})\n",
      "Most common: [('l', 3), ('o', 2), ('h', 1)]\n",
      "Person: Person(name='Alice', age=25, city='New York')\n",
      "Name: Alice\n",
      "Queue: deque([0, 1, 2, 3, 4])\n",
      "Popped from left: 0\n"
     ]
    }
   ],
   "source": [
    "print(\"\\nExamples:\")\n",
    "from collections import defaultdict, Counter, namedtuple, deque\n",
    "\n",
    "\n",
    "word_count = defaultdict(int)\n",
    "words = [\"apple\", \"banana\", \"apple\", \"cherry\", \"banana\"]\n",
    "for word in words:\n",
    "    word_count[word] += 1\n",
    "print(\"Word count:\", dict(word_count))\n",
    "\n",
    "\n",
    "letter_count = Counter(\"hello world\")\n",
    "print(\"Letter count:\", letter_count)\n",
    "print(\"Most common:\", letter_count.most_common(3))\n",
    "\n",
    "\n",
    "Person = namedtuple('Person', ['name', 'age', 'city'])\n",
    "person = Person('Alice', 25, 'New York')\n",
    "print(\"Person:\", person)\n",
    "print(\"Name:\", person.name)\n",
    "\n",
    "\n",
    "queue = deque([1, 2, 3])\n",
    "queue.append(4)\n",
    "queue.appendleft(0)\n",
    "print(\"Queue:\", queue)\n",
    "print(\"Popped from left:\", queue.popleft())"
   ]
  },
  {
   "cell_type": "markdown",
   "id": "b4e3fced",
   "metadata": {},
   "source": [
    "## Practice"
   ]
  },
  {
   "cell_type": "code",
   "execution_count": 34,
   "id": "292ea6a5",
   "metadata": {},
   "outputs": [
    {
     "name": "stdout",
     "output_type": "stream",
     "text": [
      "\n",
      "Practice Question 17:\n",
      "Create data structures that:\n",
      "1. Use defaultdict to group items by category\n",
      "2. Use Counter to analyze text frequency\n",
      "3. Use namedtuple for structured data\n",
      "4. Use deque for efficient queue operations\n"
     ]
    }
   ],
   "source": [
    "print(\"\\nPractice Question 17:\")\n",
    "print(\"Create data structures that:\")\n",
    "print(\"1. Use defaultdict to group items by category\")\n",
    "print(\"2. Use Counter to analyze text frequency\")\n",
    "print(\"3. Use namedtuple for structured data\")\n",
    "print(\"4. Use deque for efficient queue operations\")"
   ]
  },
  {
   "cell_type": "markdown",
   "id": "d7188c99",
   "metadata": {},
   "source": [
    "# 18. Functional Programming"
   ]
  },
  {
   "cell_type": "markdown",
   "id": "109d47d7",
   "metadata": {},
   "source": [
    "Using functional programming concepts in Python."
   ]
  },
  {
   "cell_type": "markdown",
   "id": "10b33d9b",
   "metadata": {},
   "source": [
    "## Example"
   ]
  },
  {
   "cell_type": "code",
   "execution_count": 35,
   "id": "eef27ca9",
   "metadata": {},
   "outputs": [
    {
     "name": "stdout",
     "output_type": "stream",
     "text": [
      "\n",
      "Examples:\n",
      "Squares: [1, 4, 9, 16, 25, 36, 49, 64, 81, 100]\n",
      "Even numbers: [2, 4, 6, 8, 10]\n",
      "Sum of all numbers: 55\n",
      "Hello, Alice!\n",
      "Good morning, Bob!\n"
     ]
    }
   ],
   "source": [
    "print(\"\\nExamples:\")\n",
    "from functools import reduce, partial\n",
    "\n",
    "\n",
    "numbers = [1, 2, 3, 4, 5, 6, 7, 8, 9, 10]\n",
    "\n",
    "\n",
    "squares = list(map(lambda x: x**2, numbers))\n",
    "print(\"Squares:\", squares)\n",
    "\n",
    "\n",
    "evens = list(filter(lambda x: x % 2 == 0, numbers))\n",
    "print(\"Even numbers:\", evens)\n",
    "\n",
    "\n",
    "sum_all = reduce(lambda x, y: x + y, numbers)\n",
    "print(\"Sum of all numbers:\", sum_all)\n",
    "\n",
    "\n",
    "def greet(greeting, name):\n",
    "    return f\"{greeting}, {name}!\"\n",
    "\n",
    "hello_greet = partial(greet, \"Hello\")\n",
    "good_morning_greet = partial(greet, \"Good morning\")\n",
    "\n",
    "print(hello_greet(\"Alice\"))\n",
    "print(good_morning_greet(\"Bob\"))"
   ]
  },
  {
   "cell_type": "markdown",
   "id": "412a91f2",
   "metadata": {},
   "source": [
    "## Practice"
   ]
  },
  {
   "cell_type": "code",
   "execution_count": 36,
   "id": "de383fad",
   "metadata": {},
   "outputs": [
    {
     "name": "stdout",
     "output_type": "stream",
     "text": [
      "\n",
      "Practice Question 18:\n",
      "Create functional programming solutions that:\n",
      "1. Use map to transform a list of strings\n",
      "2. Use filter to extract specific data\n",
      "3. Use reduce to perform complex calculations\n",
      "4. Use partial to create specialized functions\n"
     ]
    }
   ],
   "source": [
    "print(\"\\nPractice Question 18:\")\n",
    "print(\"Create functional programming solutions that:\")\n",
    "print(\"1. Use map to transform a list of strings\")\n",
    "print(\"2. Use filter to extract specific data\")\n",
    "print(\"3. Use reduce to perform complex calculations\")\n",
    "print(\"4. Use partial to create specialized functions\")"
   ]
  },
  {
   "cell_type": "markdown",
   "id": "54a5db63",
   "metadata": {},
   "source": [
    "# 19. Metaclasses"
   ]
  },
  {
   "cell_type": "markdown",
   "id": "2a01d071",
   "metadata": {},
   "source": [
    "Classes that create other classes."
   ]
  },
  {
   "cell_type": "markdown",
   "id": "296eea9d",
   "metadata": {},
   "source": [
    "## Example"
   ]
  },
  {
   "cell_type": "code",
   "execution_count": 37,
   "id": "9f149e11",
   "metadata": {},
   "outputs": [
    {
     "name": "stdout",
     "output_type": "stream",
     "text": [
      "\n",
      "Examples:\n",
      "Calculator with logging:\n",
      "Calling add with args: (<__main__.Calculator object at 0x1059d1c50>, 2, 3), kwargs: {}\n",
      "add returned: 5\n",
      "Calling multiply with args: (<__main__.Calculator object at 0x1059d1c50>, 4, 5), kwargs: {}\n",
      "multiply returned: 20\n"
     ]
    },
    {
     "data": {
      "text/plain": [
       "20"
      ]
     },
     "execution_count": 37,
     "metadata": {},
     "output_type": "execute_result"
    }
   ],
   "source": [
    "print(\"\\nExamples:\")\n",
    "class MetaLogger(type):\n",
    "    def __new__(cls, name, bases, attrs):\n",
    "        # Add logging to all methods\n",
    "        for key, value in attrs.items():\n",
    "            if callable(value) and not key.startswith('__'):\n",
    "                attrs[key] = cls.add_logging(value)\n",
    "        return super().__new__(cls, name, bases, attrs)\n",
    "    \n",
    "    @staticmethod\n",
    "    def add_logging(func):\n",
    "        def wrapper(*args, **kwargs):\n",
    "            print(f\"Calling {func.__name__} with args: {args}, kwargs: {kwargs}\")\n",
    "            result = func(*args, **kwargs)\n",
    "            print(f\"{func.__name__} returned: {result}\")\n",
    "            return result\n",
    "        return wrapper\n",
    "\n",
    "class Calculator(metaclass=MetaLogger):\n",
    "    def add(self, a, b):\n",
    "        return a + b\n",
    "    \n",
    "    def multiply(self, a, b):\n",
    "        return a * b\n",
    "\n",
    "calc = Calculator()\n",
    "print(\"Calculator with logging:\")\n",
    "calc.add(2, 3)\n",
    "calc.multiply(4, 5)"
   ]
  },
  {
   "cell_type": "markdown",
   "id": "6e8bdb1d",
   "metadata": {},
   "source": [
    "## Practice"
   ]
  },
  {
   "cell_type": "code",
   "execution_count": 38,
   "id": "913e52e8",
   "metadata": {},
   "outputs": [
    {
     "name": "stdout",
     "output_type": "stream",
     "text": [
      "\n",
      "Practice Question 19:\n",
      "Create metaclasses that:\n",
      "1. Automatically add validation to class attributes\n",
      "2. Create singleton classes\n",
      "3. Add timing decorators to all methods\n",
      "4. Implement a registry pattern for classes\n"
     ]
    }
   ],
   "source": [
    "print(\"\\nPractice Question 19:\")\n",
    "print(\"Create metaclasses that:\")\n",
    "print(\"1. Automatically add validation to class attributes\")\n",
    "print(\"2. Create singleton classes\")\n",
    "print(\"3. Add timing decorators to all methods\")\n",
    "print(\"4. Implement a registry pattern for classes\")"
   ]
  },
  {
   "cell_type": "markdown",
   "id": "5e93c84a",
   "metadata": {},
   "source": [
    "# 20. Async Programming"
   ]
  },
  {
   "cell_type": "markdown",
   "id": "cf72d419",
   "metadata": {},
   "source": [
    "Asynchronous programming with asyncio."
   ]
  },
  {
   "cell_type": "markdown",
   "id": "35ba8867",
   "metadata": {},
   "source": [
    "## Example"
   ]
  },
  {
   "cell_type": "code",
   "execution_count": 39,
   "id": "efe8aa1f",
   "metadata": {},
   "outputs": [
    {
     "name": "stdout",
     "output_type": "stream",
     "text": [
      "\n",
      "Examples:\n",
      "Async programming example (requires aiohttp):\n",
      "async def fetch_data(url):\n",
      "    async with aiohttp.ClientSession() as session:\n",
      "        async with session.get(url) as response:\n",
      "            return await response.text()\n"
     ]
    }
   ],
   "source": [
    "print(\"\\nExamples:\")\n",
    "import asyncio\n",
    "\n",
    "\n",
    "async def count_up():\n",
    "    for i in range(5):\n",
    "        print(f\"Count: {i}\")\n",
    "        await asyncio.sleep(1)\n",
    "\n",
    "\n",
    "print(\"Async programming example (requires aiohttp):\")\n",
    "print(\"async def fetch_data(url):\")\n",
    "print(\"    async with aiohttp.ClientSession() as session:\")\n",
    "print(\"        async with session.get(url) as response:\")\n",
    "print(\"            return await response.text()\")"
   ]
  },
  {
   "cell_type": "markdown",
   "id": "5bfbf73e",
   "metadata": {},
   "source": [
    "## Practice"
   ]
  },
  {
   "cell_type": "code",
   "execution_count": 40,
   "id": "23138d6a",
   "metadata": {},
   "outputs": [
    {
     "name": "stdout",
     "output_type": "stream",
     "text": [
      "\n",
      "Practice Question 20:\n",
      "Create async programs that:\n",
      "1. Fetch data from multiple URLs concurrently\n",
      "2. Process a queue of tasks asynchronously\n",
      "3. Implement a simple async web server\n",
      "4. Use asyncio for I/O-bound operations\n",
      "\n",
      "==================================================\n",
      "Intermediate Python Concepts Complete!\n",
      "Practice these concepts to strengthen your Python skills.\n",
      "==================================================\n"
     ]
    }
   ],
   "source": [
    "print(\"\\nPractice Question 20:\")\n",
    "print(\"Create async programs that:\")\n",
    "print(\"1. Fetch data from multiple URLs concurrently\")\n",
    "print(\"2. Process a queue of tasks asynchronously\")\n",
    "print(\"3. Implement a simple async web server\")\n",
    "print(\"4. Use asyncio for I/O-bound operations\")\n",
    "\n",
    "print(\"\\n\" + \"=\"*50)\n",
    "print(\"Intermediate Python Concepts Complete!\")\n",
    "print(\"Practice these concepts to strengthen your Python skills.\")\n",
    "print(\"=\"*50)"
   ]
  }
 ],
 "metadata": {
  "kernelspec": {
   "display_name": "Python 3 (ipykernel)",
   "language": "python",
   "name": "python3"
  },
  "language_info": {
   "codemirror_mode": {
    "name": "ipython",
    "version": 3
   },
   "file_extension": ".py",
   "mimetype": "text/x-python",
   "name": "python",
   "nbconvert_exporter": "python",
   "pygments_lexer": "ipython3",
   "version": "3.11.7"
  }
 },
 "nbformat": 4,
 "nbformat_minor": 5
}
