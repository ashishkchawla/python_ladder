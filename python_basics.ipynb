{
 "cells": [
  {
   "cell_type": "markdown",
   "id": "11f54050",
   "metadata": {},
   "source": [
    "# 1. Syntax Basics"
   ]
  },
  {
   "cell_type": "markdown",
   "id": "e1aad1a7",
   "metadata": {},
   "source": [
    "Python is known for its clean and readable syntax.\n",
    "Basic syntax rules:\n",
    "- Indentation is used for code blocks (typically 4 spaces)\n",
    "- No semicolons needed at the end of lines\n",
    "- Comments start with #\n",
    "- Variables are dynamically typed\n",
    "\n",
    "\n"
   ]
  },
  {
   "cell_type": "markdown",
   "id": "dc3efe2a",
   "metadata": {},
   "source": [
    "## Example"
   ]
  },
  {
   "cell_type": "code",
   "execution_count": null,
   "id": "a38d411e",
   "metadata": {},
   "outputs": [],
   "source": [
    "print(\"Hello, World!\")  # This prints a string\n",
    "result = 5 + 3\n",
    "print(f\"5 + 3 = {result}\")"
   ]
  },
  {
   "cell_type": "markdown",
   "id": "07d35129",
   "metadata": {},
   "source": [
    "## Practice"
   ]
  },
  {
   "cell_type": "code",
   "execution_count": null,
   "id": "726aba48",
   "metadata": {},
   "outputs": [],
   "source": [
    "print(\"\\nPractice Question 1:\")\n",
    "print(\"Write a program that prints your name and age using proper Python syntax.\")"
   ]
  },
  {
   "cell_type": "markdown",
   "id": "a9d36bde",
   "metadata": {},
   "source": [
    "# 2. Variables and Data Types"
   ]
  },
  {
   "cell_type": "markdown",
   "id": "8d7f82ba",
   "metadata": {},
   "source": [
    "Python has several built-in data types:\n",
    "- int: Integer numbers\n",
    "- float: Decimal numbers\n",
    "- str: Strings (text)\n",
    "- bool: Boolean values (True/False)\n",
    "- None: Represents absence of a value"
   ]
  },
  {
   "cell_type": "markdown",
   "id": "f49ec4f3",
   "metadata": {},
   "source": [
    "## Example"
   ]
  },
  {
   "cell_type": "code",
   "execution_count": null,
   "id": "96b44544",
   "metadata": {},
   "outputs": [],
   "source": [
    "print(\"\\nExamples:\")\n",
    "age = 25\n",
    "print(f\"Integer example - age: {age}, type: {type(age)}\")\n",
    "\n",
    "height = 1.75\n",
    "print(f\"Float example - height: {height}, type: {type(height)}\")\n",
    "\n",
    "name = \"John\"\n",
    "print(f\"String example - name: {name}, type: {type(name)}\")\n",
    "\n",
    "is_student = True\n",
    "print(f\"Boolean example - is_student: {is_student}, type: {type(is_student)}\")\n",
    "\n",
    "empty_value = None\n",
    "print(f\"None example - empty_value: {empty_value}, type: {type(empty_value)}\")"
   ]
  },
  {
   "cell_type": "markdown",
   "id": "4f9311b8",
   "metadata": {},
   "source": [
    "## Practice"
   ]
  },
  {
   "cell_type": "code",
   "execution_count": null,
   "id": "3524333a",
   "metadata": {},
   "outputs": [],
   "source": [
    "print(\"\\nPractice Question 2:\")\n",
    "print(\"Create variables for:\")\n",
    "print(\"1. Your favorite number\")\n",
    "print(\"2. Your height in meters\")\n",
    "print(\"3. Your full name\")\n",
    "print(\"4. Whether you like Python (boolean)\")\n",
    "print(\"Then print all variables with their types.\")"
   ]
  },
  {
   "cell_type": "markdown",
   "id": "e05a8abc",
   "metadata": {},
   "source": [
    "# 3. Conditionals"
   ]
  },
  {
   "cell_type": "markdown",
   "id": "5e723554",
   "metadata": {},
   "source": [
    "Conditional statements help make decisions in code using if, elif, and else statements."
   ]
  },
  {
   "cell_type": "markdown",
   "id": "1d462315",
   "metadata": {},
   "source": [
    "## Example"
   ]
  },
  {
   "cell_type": "code",
   "execution_count": null,
   "id": "5eddfd09",
   "metadata": {},
   "outputs": [],
   "source": [
    "print(\"\\nExamples:\")\n",
    "age = 18\n",
    "if age < 18:\n",
    "    print(\"You are a minor\")\n",
    "elif age == 18:\n",
    "    print(\"You just became an adult\")\n",
    "else:\n",
    "    print(\"You are an adult\")\n",
    "\n",
    "x, y = 10, 20\n",
    "if x < y:\n",
    "    print(\"x is less than y\")\n",
    "elif x == y:\n",
    "    print(\"x equals y\")\n",
    "else:\n",
    "    print(\"x is greater than y\")"
   ]
  },
  {
   "cell_type": "markdown",
   "id": "bddc19e4",
   "metadata": {},
   "source": [
    "## Practice"
   ]
  },
  {
   "cell_type": "code",
   "execution_count": null,
   "id": "199c704a",
   "metadata": {},
   "outputs": [],
   "source": [
    "print(\"\\nPractice Question 3:\")\n",
    "print(\"Write a program that:\")\n",
    "print(\"1. Takes a number as input\")\n",
    "print(\"2. Checks if it's positive, negative, or zero\")\n",
    "print(\"3. If positive, checks if it's even or odd\")\n",
    "print(\"4. Prints appropriate messages for each case\")"
   ]
  },
  {
   "cell_type": "markdown",
   "id": "c356d8a5",
   "metadata": {},
   "source": [
    "# 4. Loops"
   ]
  },
  {
   "cell_type": "markdown",
   "id": "4ec18444",
   "metadata": {},
   "source": [
    "Python has two main types of loops: for and while loops."
   ]
  },
  {
   "cell_type": "markdown",
   "id": "2ae51c0c",
   "metadata": {},
   "source": [
    "## Example"
   ]
  },
  {
   "cell_type": "code",
   "execution_count": null,
   "id": "fbe8aec7",
   "metadata": {},
   "outputs": [],
   "source": [
    "print(\"\\nExamples:\")\n",
    "print(\"For loop with range:\")\n",
    "for i in range(5):\n",
    "    print(i)\n",
    "\n",
    "print(\"\\nFor loop with list:\")\n",
    "fruits = [\"apple\", \"banana\", \"cherry\"]\n",
    "for fruit in fruits:\n",
    "    print(fruit)\n",
    "\n",
    "print(\"\\nWhile loop:\")\n",
    "count = 0\n",
    "while count < 3:\n",
    "    print(f\"Count is {count}\")\n",
    "    count += 1"
   ]
  },
  {
   "cell_type": "markdown",
   "id": "54db31ec",
   "metadata": {},
   "source": [
    "## Practice"
   ]
  },
  {
   "cell_type": "code",
   "execution_count": null,
   "id": "cf3e1347",
   "metadata": {},
   "outputs": [],
   "source": [
    "print(\"\\nPractice Question 4:\")\n",
    "print(\"Write a program that:\")\n",
    "print(\"1. Uses a for loop to print the first 10 Fibonacci numbers\")\n",
    "print(\"2. Uses a while loop to find the factorial of a given number\")"
   ]
  },
  {
   "cell_type": "markdown",
   "id": "19cc1b16",
   "metadata": {},
   "source": [
    "# 5. Functions"
   ]
  },
  {
   "cell_type": "markdown",
   "id": "b71f7b20",
   "metadata": {},
   "source": [
    "Functions are reusable blocks of code that perform specific tasks."
   ]
  },
  {
   "cell_type": "markdown",
   "id": "9fcb9da2",
   "metadata": {},
   "source": [
    "## Example"
   ]
  },
  {
   "cell_type": "code",
   "execution_count": null,
   "id": "92f05372",
   "metadata": {},
   "outputs": [],
   "source": [
    "def greet(name):\n",
    "    return f\"Hello, {name}!\"\n",
    "\n",
    "def calculate_rectangle_area(length, width=1):\n",
    "    return length * width\n",
    "\n",
    "def sum_all(*args):\n",
    "    return sum(args)\n",
    "\n",
    "print(\"\\nExamples:\")\n",
    "print(greet(\"Alice\"))\n",
    "print(f\"Area with both parameters: {calculate_rectangle_area(5, 3)}\")\n",
    "print(f\"Area with default width: {calculate_rectangle_area(5)}\")\n",
    "print(f\"Sum of 1, 2, 3: {sum_all(1, 2, 3)}\")"
   ]
  },
  {
   "cell_type": "markdown",
   "id": "17a6766e",
   "metadata": {},
   "source": [
    "## Practice"
   ]
  },
  {
   "cell_type": "code",
   "execution_count": null,
   "id": "8ff521c7",
   "metadata": {},
   "outputs": [],
   "source": [
    "print(\"\\nPractice Question 5:\")\n",
    "print(\"Create a function that:\")\n",
    "print(\"1. Takes a list of numbers as input\")\n",
    "print(\"2. Returns a tuple containing the minimum, maximum, and average of the numbers\")\n",
    "print(\"3. Has a default parameter for rounding the average to a specified number of decimal places\")"
   ]
  },
  {
   "cell_type": "markdown",
   "id": "a94d7848",
   "metadata": {},
   "source": [
    "# 6. Lists and Tuples"
   ]
  },
  {
   "cell_type": "markdown",
   "id": "93b069d9",
   "metadata": {},
   "source": [
    "Lists are mutable sequences, while tuples are immutable sequences."
   ]
  },
  {
   "cell_type": "markdown",
   "id": "c60a9c5e",
   "metadata": {},
   "source": [
    "## Example"
   ]
  },
  {
   "cell_type": "code",
   "execution_count": null,
   "id": "a065af81",
   "metadata": {},
   "outputs": [],
   "source": [
    "print(\"\\nExamples:\")\n",
    "fruits = [\"apple\", \"banana\", \"cherry\"]\n",
    "print(\"Original list:\", fruits)\n",
    "\n",
    "fruits.append(\"orange\")\n",
    "fruits.insert(1, \"mango\")\n",
    "fruits.remove(\"banana\")\n",
    "print(\"Modified list:\", fruits)\n",
    "\n",
    "print(\"First two items:\", fruits[:2])\n",
    "print(\"Last two items:\", fruits[-2:])\n",
    "\n",
    "coordinates = (10, 20)\n",
    "print(\"\\nTuple:\", coordinates)\n",
    "print(\"First coordinate:\", coordinates[0])\n",
    "\n",
    "x, y = coordinates\n",
    "print(f\"Unpacked coordinates: x={x}, y={y}\")"
   ]
  },
  {
   "cell_type": "markdown",
   "id": "626b7eeb",
   "metadata": {},
   "source": [
    "## Practice"
   ]
  },
  {
   "cell_type": "code",
   "execution_count": null,
   "id": "108da2c1",
   "metadata": {},
   "outputs": [],
   "source": [
    "print(\"\\nPractice Question 6:\")\n",
    "print(\"Create a program that:\")\n",
    "print(\"1. Takes a list of numbers\")\n",
    "print(\"2. Creates a new list with only even numbers\")\n",
    "print(\"3. Creates a tuple with the original list's statistics (sum, average, min, max)\")\n",
    "print(\"4. Prints both the new list and the statistics tuple\")"
   ]
  },
  {
   "cell_type": "markdown",
   "id": "d0b127b8",
   "metadata": {},
   "source": [
    "# 7. Dictionaries and Sets"
   ]
  },
  {
   "cell_type": "markdown",
   "id": "a2133e40",
   "metadata": {},
   "source": [
    "Dictionaries store key-value pairs, while sets store unique elements."
   ]
  },
  {
   "cell_type": "markdown",
   "id": "f1158f87",
   "metadata": {},
   "source": [
    "## Example"
   ]
  },
  {
   "cell_type": "code",
   "execution_count": null,
   "id": "e1677dfc",
   "metadata": {},
   "outputs": [],
   "source": [
    "print(\"\\nExamples:\")\n",
    "person = {\n",
    "    \"name\": \"John\",\n",
    "    \"age\": 30,\n",
    "    \"city\": \"New York\"\n",
    "}\n",
    "print(\"Dictionary:\", person)\n",
    "print(\"Name:\", person[\"name\"])\n",
    "\n",
    "person[\"job\"] = \"Developer\"\n",
    "del person[\"age\"]\n",
    "print(\"Modified dictionary:\", person)\n",
    "\n",
    "fruits = {\"apple\", \"banana\", \"cherry\"}\n",
    "print(\"\\nSet:\", fruits)\n",
    "\n",
    "fruits.add(\"orange\")\n",
    "fruits.remove(\"banana\")\n",
    "print(\"Modified set:\", fruits)\n",
    "\n",
    "set1 = {1, 2, 3}\n",
    "set2 = {3, 4, 5}\n",
    "print(\"Union:\", set1 | set2)\n",
    "print(\"Intersection:\", set1 & set2)\n",
    "print(\"Difference:\", set1 - set2)"
   ]
  },
  {
   "cell_type": "markdown",
   "id": "40cf6ac6",
   "metadata": {},
   "source": [
    "## Practice"
   ]
  },
  {
   "cell_type": "code",
   "execution_count": null,
   "id": "fc4aef0b",
   "metadata": {},
   "outputs": [],
   "source": [
    "print(\"\\nPractice Question 7:\")\n",
    "print(\"Create a program that:\")\n",
    "print(\"1. Creates a dictionary of student grades\")\n",
    "print(\"2. Calculates the average grade for each student\")\n",
    "print(\"3. Creates a set of unique grades across all students\")\n",
    "print(\"4. Prints the student with the highest average grade\")"
   ]
  },
  {
   "cell_type": "markdown",
   "id": "aeb7863c",
   "metadata": {},
   "source": [
    "# 8. List Comprehensions"
   ]
  },
  {
   "cell_type": "markdown",
   "id": "3b169c2e",
   "metadata": {},
   "source": [
    "List comprehensions provide a concise way to create lists based on existing lists."
   ]
  },
  {
   "cell_type": "markdown",
   "id": "7622576d",
   "metadata": {},
   "source": [
    "## Example"
   ]
  },
  {
   "cell_type": "code",
   "execution_count": null,
   "id": "29ec21d4",
   "metadata": {},
   "outputs": [],
   "source": [
    "print(\"\\nExamples:\")\n",
    "squares = [x**2 for x in range(5)]\n",
    "print(\"Squares:\", squares)\n",
    "\n",
    "even_squares = [x**2 for x in range(10) if x % 2 == 0]\n",
    "print(\"Even squares:\", even_squares)\n",
    "\n",
    "matrix = [[1, 2, 3], [4, 5, 6], [7, 8, 9]]\n",
    "flattened = [num for row in matrix for num in row]\n",
    "print(\"Flattened matrix:\", flattened)"
   ]
  },
  {
   "cell_type": "markdown",
   "id": "5710012f",
   "metadata": {},
   "source": [
    "## Practice"
   ]
  },
  {
   "cell_type": "code",
   "execution_count": null,
   "id": "97c0e66f",
   "metadata": {},
   "outputs": [],
   "source": [
    "print(\"\\nPractice Question 8:\")\n",
    "print(\"Using list comprehension:\")\n",
    "print(\"1. Create a list of all numbers from 1 to 100 that are divisible by both 3 and 5\")\n",
    "print(\"2. Create a list of tuples containing numbers and their squares for numbers 1 to 10\")\n",
    "print(\"3. Create a list of all vowels from a given string\")"
   ]
  },
  {
   "cell_type": "markdown",
   "id": "4f074cec",
   "metadata": {},
   "source": [
    "# 9. String Manipulation"
   ]
  },
  {
   "cell_type": "markdown",
   "id": "adfdceb9",
   "metadata": {},
   "source": [
    "Python provides powerful string manipulation capabilities."
   ]
  },
  {
   "cell_type": "markdown",
   "id": "9abdfae9",
   "metadata": {},
   "source": [
    "## Example"
   ]
  },
  {
   "cell_type": "code",
   "execution_count": null,
   "id": "17d28844",
   "metadata": {},
   "outputs": [],
   "source": [
    "print(\"\\nExamples:\")\n",
    "text = \"  Hello, World!  \"\n",
    "print(\"Original:\", text)\n",
    "print(\"Strip:\", text.strip())\n",
    "print(\"Lowercase:\", text.lower())\n",
    "print(\"Uppercase:\", text.upper())\n",
    "print(\"Replace:\", text.replace(\"World\", \"Python\"))\n",
    "\n",
    "name = \"Alice\"\n",
    "age = 25\n",
    "print(f\"{name} is {age} years old\")\n",
    "\n",
    "words = \"Python is awesome\".split()\n",
    "print(\"Split words:\", words)\n",
    "print(\"Joined with dashes:\", \"-\".join(words))"
   ]
  },
  {
   "cell_type": "markdown",
   "id": "a30eb20e",
   "metadata": {},
   "source": [
    "## Practice"
   ]
  },
  {
   "cell_type": "code",
   "execution_count": null,
   "id": "5f3f2bd8",
   "metadata": {},
   "outputs": [],
   "source": [
    "print(\"\\nPractice Question 9:\")\n",
    "print(\"Write a program that:\")\n",
    "print(\"1. Takes a sentence as input\")\n",
    "print(\"2. Counts the number of words\")\n",
    "print(\"3. Reverses each word\")\n",
    "print(\"4. Joins the reversed words back into a sentence\")\n",
    "print(\"5. Prints both the original and modified sentences\")"
   ]
  },
  {
   "cell_type": "markdown",
   "id": "43a4e9dc",
   "metadata": {},
   "source": [
    "# 10. Exception Handling"
   ]
  },
  {
   "cell_type": "markdown",
   "id": "474b2350",
   "metadata": {},
   "source": [
    "Exception handling helps manage errors gracefully in Python."
   ]
  },
  {
   "cell_type": "markdown",
   "id": "5285265f",
   "metadata": {},
   "source": [
    "## Example"
   ]
  },
  {
   "cell_type": "code",
   "execution_count": null,
   "id": "454a3380",
   "metadata": {},
   "outputs": [],
   "source": [
    "print(\"\\nExamples:\")\n",
    "try:\n",
    "    number = int(input(\"Enter a number: \"))\n",
    "    result = 10 / number\n",
    "    print(f\"10 divided by {number} is {result}\")\n",
    "except ValueError:\n",
    "    print(\"Please enter a valid number\")\n",
    "except ZeroDivisionError:\n",
    "    print(\"Cannot divide by zero\")\n",
    "except Exception as e:\n",
    "    print(f\"An error occurred: {e}\")\n",
    "finally:\n",
    "    print(\"This will always execute\")"
   ]
  },
  {
   "cell_type": "markdown",
   "id": "fbb27dfb",
   "metadata": {},
   "source": [
    "## Practice"
   ]
  },
  {
   "cell_type": "code",
   "execution_count": null,
   "id": "1f8d937d",
   "metadata": {},
   "outputs": [],
   "source": [
    "print(\"\\nPractice Question 10:\")\n",
    "print(\"Create a program that:\")\n",
    "print(\"1. Takes a list of numbers as input\")\n",
    "print(\"2. Calculates the average of the numbers\")\n",
    "print(\"3. Handles potential errors (empty list, non-numeric values)\")\n",
    "print(\"4. Uses try-except-finally blocks appropriately\")"
   ]
  },
  {
   "cell_type": "markdown",
   "id": "54049228",
   "metadata": {},
   "source": [
    "# 11. File I/O"
   ]
  },
  {
   "cell_type": "markdown",
   "id": "6b0426c3",
   "metadata": {},
   "source": [
    "Python provides easy ways to read from and write to files."
   ]
  },
  {
   "cell_type": "markdown",
   "id": "c964d700",
   "metadata": {},
   "source": [
    "## Example"
   ]
  },
  {
   "cell_type": "code",
   "execution_count": null,
   "id": "7fb9a106",
   "metadata": {},
   "outputs": [],
   "source": [
    "print(\"\\nExamples:\")\n",
    "with open(\"example.txt\", \"w\") as file:\n",
    "    file.write(\"Hello, World!\\n\")\n",
    "    file.write(\"This is a test file.\")\n",
    "\n",
    "with open(\"example.txt\", \"r\") as file:\n",
    "    content = file.read()\n",
    "    print(\"File content:\")\n",
    "    print(content)\n",
    "\n",
    "with open(\"example.txt\", \"r\") as file:\n",
    "    print(\"\\nReading line by line:\")\n",
    "    for line in file:\n",
    "        print(line.strip())"
   ]
  },
  {
   "cell_type": "markdown",
   "id": "05df0650",
   "metadata": {},
   "source": [
    "## Practice"
   ]
  },
  {
   "cell_type": "code",
   "execution_count": null,
   "id": "a2b3fa1f",
   "metadata": {},
   "outputs": [],
   "source": [
    "print(\"\\nPractice Question 11:\")\n",
    "print(\"Create a program that:\")\n",
    "print(\"1. Creates a file with student records (name, grade)\")\n",
    "print(\"2. Reads the file and calculates the average grade\")\n",
    "print(\"3. Writes the results to a new file\")\n",
    "print(\"4. Handles potential file I/O errors\")"
   ]
  },
  {
   "cell_type": "markdown",
   "id": "b781a09a",
   "metadata": {},
   "source": [
    "# 12. Modules"
   ]
  },
  {
   "cell_type": "markdown",
   "id": "21d7fd47",
   "metadata": {},
   "source": [
    "Modules help organize Python code into reusable components."
   ]
  },
  {
   "cell_type": "markdown",
   "id": "ca5d094e",
   "metadata": {},
   "source": [
    "## Example"
   ]
  },
  {
   "cell_type": "code",
   "execution_count": null,
   "id": "a2ba42f2",
   "metadata": {},
   "outputs": [],
   "source": [
    "print(\"\\nExamples:\")\n",
    "import math\n",
    "import random\n",
    "from datetime import datetime\n",
    "\n",
    "print(\"Pi:\", math.pi)\n",
    "print(\"Square root of 16:\", math.sqrt(16))\n",
    "\n",
    "print(\"Random number:\", random.randint(1, 10))\n",
    "print(\"Random choice:\", random.choice([\"apple\", \"banana\", \"cherry\"]))\n",
    "\n",
    "now = datetime.now()\n",
    "print(\"Current time:\", now.strftime(\"%Y-%m-%d %H:%M:%S\"))"
   ]
  },
  {
   "cell_type": "markdown",
   "id": "6fcd0965",
   "metadata": {},
   "source": [
    "## Practice"
   ]
  },
  {
   "cell_type": "code",
   "execution_count": null,
   "id": "729d31d6",
   "metadata": {},
   "outputs": [],
   "source": [
    "print(\"\\nPractice Question 12:\")\n",
    "print(\"Create a program that:\")\n",
    "print(\"1. Uses the `random` module to generate a list of random numbers\")\n",
    "print(\"2. Uses the `math` module to calculate statistics (mean, standard deviation)\")\n",
    "print(\"3. Uses the `datetime` module to track when the calculations were performed\")"
   ]
  },
  {
   "cell_type": "markdown",
   "id": "da66cd97",
   "metadata": {},
   "source": [
    "# 13. Classes and Objects"
   ]
  },
  {
   "cell_type": "markdown",
   "id": "d0a65c7d",
   "metadata": {},
   "source": [
    "Classes are blueprints for creating objects with attributes and methods."
   ]
  },
  {
   "cell_type": "markdown",
   "id": "12745608",
   "metadata": {},
   "source": [
    "## Example"
   ]
  },
  {
   "cell_type": "code",
   "execution_count": null,
   "id": "f0d137b3",
   "metadata": {},
   "outputs": [],
   "source": [
    "print(\"\\nExamples:\")\n",
    "class Person:\n",
    "    def __init__(self, name, age):\n",
    "        self.name = name\n",
    "        self.age = age\n",
    "    \n",
    "    def greet(self):\n",
    "        return f\"Hello, my name is {self.name} and I am {self.age} years old.\"\n",
    "    \n",
    "    def have_birthday(self):\n",
    "        self.age += 1\n",
    "        return f\"Happy birthday! {self.name} is now {self.age} years old.\"\n",
    "\n",
    "person1 = Person(\"Alice\", 25)\n",
    "person2 = Person(\"Bob\", 30)\n",
    "\n",
    "print(person1.greet())\n",
    "print(person2.greet())\n",
    "print(person1.have_birthday())"
   ]
  },
  {
   "cell_type": "markdown",
   "id": "062ba775",
   "metadata": {},
   "source": [
    "## Practice"
   ]
  },
  {
   "cell_type": "code",
   "execution_count": null,
   "id": "057f185f",
   "metadata": {},
   "outputs": [],
   "source": [
    "print(\"\\nPractice Question 13:\")\n",
    "print(\"Create a `BankAccount` class that:\")\n",
    "print(\"1. Has attributes for account number, balance, and owner name\")\n",
    "print(\"2. Has methods for deposit, withdraw, and check balance\")\n",
    "print(\"3. Includes proper validation (e.g., can't withdraw more than balance)\")\n",
    "print(\"4. Creates multiple accounts and demonstrates the methods\")"
   ]
  },
  {
   "cell_type": "markdown",
   "id": "5c3ee82c",
   "metadata": {},
   "source": [
    "# 14. Decorators"
   ]
  },
  {
   "cell_type": "markdown",
   "id": "b775b93e",
   "metadata": {},
   "source": [
    "Decorators are a way to modify functions using other functions."
   ]
  },
  {
   "cell_type": "markdown",
   "id": "0dce9a47",
   "metadata": {},
   "source": [
    "## Example"
   ]
  },
  {
   "cell_type": "code",
   "execution_count": null,
   "id": "8cefa93a",
   "metadata": {},
   "outputs": [],
   "source": [
    "print(\"\\nExamples:\")\n",
    "import time\n",
    "\n",
    "def timer_decorator(func):\n",
    "    def wrapper(*args, **kwargs):\n",
    "        start_time = time.time()\n",
    "        result = func(*args, **kwargs)\n",
    "        end_time = time.time()\n",
    "        print(f\"Function {func.__name__} took {end_time - start_time:.2f} seconds to execute\")\n",
    "        return result\n",
    "    return wrapper\n",
    "\n",
    "@timer_decorator\n",
    "def slow_function():\n",
    "    time.sleep(1)\n",
    "    return \"Function completed\"\n",
    "\n",
    "print(slow_function())"
   ]
  },
  {
   "cell_type": "markdown",
   "id": "85d6f670",
   "metadata": {},
   "source": [
    "## Practice"
   ]
  },
  {
   "cell_type": "code",
   "execution_count": null,
   "id": "c2bf410c",
   "metadata": {},
   "outputs": [],
   "source": [
    "print(\"\\nPractice Question 14:\")\n",
    "print(\"Create a decorator that:\")\n",
    "print(\"1. Logs function calls with their arguments\")\n",
    "print(\"2. Caches function results to avoid redundant calculations\")\n",
    "print(\"3. Applies the decorator to a function that calculates Fibonacci numbers\")"
   ]
  },
  {
   "cell_type": "markdown",
   "id": "61d157f6",
   "metadata": {},
   "source": [
    "# 15. Lambda Functions"
   ]
  },
  {
   "cell_type": "markdown",
   "id": "765430b2",
   "metadata": {},
   "source": [
    "Lambda functions are small anonymous functions defined with the lambda keyword."
   ]
  },
  {
   "cell_type": "markdown",
   "id": "dbeac5f2",
   "metadata": {},
   "source": [
    "## Example"
   ]
  },
  {
   "cell_type": "code",
   "execution_count": null,
   "id": "5145765f",
   "metadata": {},
   "outputs": [],
   "source": [
    "print(\"\\nExamples:\")\n",
    "square = lambda x: x**2\n",
    "print(\"Square of 5:\", square(5))\n",
    "\n",
    "multiply = lambda x, y: x * y\n",
    "print(\"5 * 3:\", multiply(5, 3))\n",
    "\n",
    "numbers = [1, 5, 3, 9, 2]\n",
    "sorted_numbers = sorted(numbers, key=lambda x: x)\n",
    "print(\"Sorted numbers:\", sorted_numbers)\n",
    "\n",
    "even_numbers = list(filter(lambda x: x % 2 == 0, numbers))\n",
    "print(\"Even numbers:\", even_numbers)"
   ]
  },
  {
   "cell_type": "markdown",
   "id": "3db52a04",
   "metadata": {},
   "source": [
    "## Practice"
   ]
  },
  {
   "cell_type": "code",
   "execution_count": null,
   "id": "38ffb22a",
   "metadata": {},
   "outputs": [],
   "source": [
    "print(\"\\nPractice Question 15:\")\n",
    "print(\"Create a program that:\")\n",
    "print(\"1. Uses lambda functions to sort a list of tuples by different criteria\")\n",
    "print(\"2. Uses lambda with map to transform a list of numbers\")\n",
    "print(\"3. Uses lambda with filter to extract specific elements from a list\")"
   ]
  },
  {
   "cell_type": "markdown",
   "id": "c93bab66",
   "metadata": {},
   "source": [
    "# 16. Virtual Environments and Packages"
   ]
  },
  {
   "cell_type": "markdown",
   "id": "15bf97af",
   "metadata": {},
   "source": [
    "Virtual environments help manage project dependencies, and pip is the package installer for Python."
   ]
  },
  {
   "cell_type": "markdown",
   "id": "30b38be8",
   "metadata": {},
   "source": [
    "## Example"
   ]
  },
  {
   "cell_type": "code",
   "execution_count": null,
   "id": "3b5e083f",
   "metadata": {},
   "outputs": [],
   "source": [
    "print(\"\\nExamples:\")\n",
    "try:\n",
    "    import numpy as np\n",
    "    \n",
    "    arr1 = np.array([1, 2, 3])\n",
    "    arr2 = np.array([4, 5, 6])\n",
    "    \n",
    "    print(\"Array addition:\", arr1 + arr2)\n",
    "    print(\"Array multiplication:\", arr1 * arr2)\n",
    "    print(\"Array mean:\", np.mean(arr1))\n",
    "except ImportError:\n",
    "    print(\"NumPy is not installed. Please install it using: pip install numpy\")"
   ]
  },
  {
   "cell_type": "markdown",
   "id": "cca85a39",
   "metadata": {},
   "source": [
    "## Practice"
   ]
  },
  {
   "cell_type": "code",
   "execution_count": null,
   "id": "ed85d30c",
   "metadata": {},
   "outputs": [],
   "source": [
    "print(\"\\nPractice Question 16:\")\n",
    "print(\"Create a program that:\")\n",
    "print(\"1. Sets up a virtual environment\")\n",
    "print(\"2. Installs required packages (e.g., numpy, pandas)\")\n",
    "print(\"3. Creates a requirements.txt file\")\n",
    "print(\"4. Demonstrates the use of installed packages\")"
   ]
  }
 ],
 "metadata": {
  "kernelspec": {
   "display_name": "Python 3 (ipykernel)",
   "language": "python",
   "name": "python3"
  },
  "language_info": {
   "codemirror_mode": {
    "name": "ipython",
    "version": 3
   },
   "file_extension": ".py",
   "mimetype": "text/x-python",
   "name": "python",
   "nbconvert_exporter": "python",
   "pygments_lexer": "ipython3",
   "version": "3.11.7"
  }
 },
 "nbformat": 4,
 "nbformat_minor": 5
}
